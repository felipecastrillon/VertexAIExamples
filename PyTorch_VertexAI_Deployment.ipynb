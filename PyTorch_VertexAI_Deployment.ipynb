{
 "cells": [
  {
   "cell_type": "code",
   "execution_count": 5,
   "metadata": {
    "id": "KgasLXL3FPTo"
   },
   "outputs": [],
   "source": [
    "# set your environment variables\n",
    "SA_FILE=\"felipe-sandbox-ba2c6045e3e1.json\" # upload service account file\n",
    "PROJECT_ID=\"felipe-sandbox\"\n",
    "APP_NAME=\"pytorch-test\"\n",
    "REGION=\"us-central1\""
   ]
  },
  {
   "cell_type": "code",
   "execution_count": 44,
   "metadata": {
    "id": "u8l-00ATFuAT"
   },
   "outputs": [],
   "source": [
    "# copy environment variables on terminal\n",
    "import os\n",
    "os.environ['SA_FILE']=SA_FILE\n",
    "os.environ['PROJECT_ID']=PROJECT_ID\n",
    "os.environ['APP_NAME']=APP_NAME\n",
    "os.environ['REGION']=REGION\n",
    "os.environ['IMAGE_NAME']=REGION+\"-docker.pkg.dev/\"+PROJECT_ID+\"/\"+APP_NAME+\"/serve-mnist\""
   ]
  },
  {
   "cell_type": "code",
   "execution_count": null,
   "metadata": {},
   "outputs": [],
   "source": [
    "!echo $IMAGE_NAME"
   ]
  },
  {
   "cell_type": "code",
   "execution_count": 23,
   "metadata": {
    "colab": {
     "base_uri": "https://localhost:8080/"
    },
    "id": "_MJT0Icrd9oi",
    "outputId": "ef70c193-8ff1-4003-9606-39dea29202e4"
   },
   "outputs": [
    {
     "name": "stderr",
     "output_type": "stream",
     "text": [
      "Activated service account credentials for: [pytorch-test@felipe-sandbox.iam.gserviceaccount.com]\n",
      "Updated property [core/project].\n"
     ]
    }
   ],
   "source": [
    "%%bash\n",
    "# authenticate notebook\n",
    "gcloud auth activate-service-account --key-file=\"$SA_FILE\"\n",
    "gcloud config set project \"${PROJECT_ID}\""
   ]
  },
  {
   "cell_type": "markdown",
   "metadata": {
    "id": "Pxa3FtBEXrQk"
   },
   "source": [
    "Enable APIs: \n",
    "- Cloud Build API\n",
    "- Cloud Run Admin API\n",
    "- Container Registry API\n",
    "- Cloud Resource Manager API\n",
    "\n",
    "Roles\n",
    "- Vertex AI User\n",
    "- Service Usage Viewer\n",
    "- Storage Object Viewer"
   ]
  },
  {
   "cell_type": "code",
   "execution_count": 24,
   "metadata": {
    "colab": {
     "base_uri": "https://localhost:8080/"
    },
    "id": "ReL-Rzvkebpj",
    "outputId": "463d4774-b9a3-4a50-ebed-758b6a8f8e9d"
   },
   "outputs": [
    {
     "name": "stderr",
     "output_type": "stream",
     "text": [
      "Cloning into 'serve'...\n",
      "Note: checking out 'ccff97780628a01ab3b47d835d8e9dd01377d881'.\n",
      "\n",
      "You are in 'detached HEAD' state. You can look around, make experimental\n",
      "changes and commit them, and you can discard any commits you make in this\n",
      "state without impacting any branches by performing another checkout.\n",
      "\n",
      "If you want to create a new branch to retain commits you create, you may\n",
      "do so (now or later) by using -b with the checkout command again. Example:\n",
      "\n",
      "  git checkout -b <new-branch-name>\n",
      "\n"
     ]
    }
   ],
   "source": [
    "%%bash\n",
    "# copy pytorch files locally\n",
    "git clone https://github.com/pytorch/serve.git \\\n",
    "  --branch=v0.3.0 \\\n",
    "  --depth=1"
   ]
  },
  {
   "cell_type": "code",
   "execution_count": 39,
   "metadata": {},
   "outputs": [],
   "source": [
    "%%bash\n",
    "#create dockerfile\n",
    "\n",
    "cd serve/examples/image_classifier/mnist\n",
    "\n",
    "cat > Dockerfile <<END\n",
    "FROM pytorch/torchserve:0.3.0-cpu\n",
    "\n",
    "COPY mnist.py mnist_cnn.pt mnist_handler.py /home/model-server/\n",
    "\n",
    "USER root\n",
    "RUN printf \"\\nservice_envelope=json\" >> /home/model-server/config.properties\n",
    "RUN printf \"\\ninference_address=http://0.0.0.0:7080\" >> /home/model-server/config.properties\n",
    "RUN printf \"\\nmanagement_address=http://0.0.0.0:7081\" >> /home/model-server/config.properties\n",
    "USER model-server\n",
    "USER model-server\n",
    "\n",
    "# expose health and prediction listener ports from the image\n",
    "EXPOSE 7080\n",
    "EXPOSE 7081\n",
    "\n",
    "RUN torch-model-archiver   \\\n",
    "--model-name=mnist  \\\n",
    " --version=1.0   \\\n",
    " --model-file=/home/model-server/mnist.py   \\\n",
    " --serialized-file=/home/model-server/mnist_cnn.pt   \\\n",
    " --handler=/home/model-server/mnist_handler.py   \\\n",
    " --export-path=/home/model-server/model-store\n",
    "\n",
    "CMD [\"torchserve\",\"--start\",\"--ts-config=/home/model-server/config.properties\", \"--models\",\"mnist=mnist.mar\",\"--model-store\",\"/home/model-server/model-store\"]\n",
    "\n",
    "END"
   ]
  },
  {
   "cell_type": "code",
   "execution_count": 45,
   "metadata": {
    "colab": {
     "base_uri": "https://localhost:8080/"
    },
    "id": "hKgQPurFXy9w",
    "outputId": "140c1e24-645d-4848-fde5-ff171a5162fa"
   },
   "outputs": [
    {
     "name": "stderr",
     "output_type": "stream",
     "text": [
      "Creating temporary tarball archive of 18 file(s) totalling 4.6 MiB before compression.\n",
      "Uploading tarball of [.] to [gs://felipe-sandbox_cloudbuild/source/1633627899.037035-4d2c6cb22b5a4453b54ae5d19b2be2dc.tgz]\n",
      "Created [https://cloudbuild.googleapis.com/v1/projects/felipe-sandbox/locations/global/builds/b0535341-904d-445d-b23f-9ff3fcb531d3].\n",
      "Logs are available at [https://console.cloud.google.com/cloud-build/builds/b0535341-904d-445d-b23f-9ff3fcb531d3?project=581970904807].\n",
      "ERROR: (gcloud.builds.submit) build b0535341-904d-445d-b23f-9ff3fcb531d3 completed with status \"FAILURE\"\n"
     ]
    },
    {
     "ename": "CalledProcessError",
     "evalue": "Command 'b\"# create a cloud build deployment using docker\\n\\ncd serve/examples/image_classifier/mnist\\n\\ncat > cloudbuild.yaml <<END\\nsteps:\\n# Build the container image\\n- name: 'gcr.io/cloud-builders/docker'\\n  args: ['build', '-t', '${IMAGE_NAME}', '.']\\n# Push the container image to Container Registry\\n- name: 'gcr.io/cloud-builders/docker'\\n  args: ['push', '${IMAGE_NAME}']\\n# Deploy container image to Cloud Run\\n- name: 'gcr.io/google.com/cloudsdktool/cloud-sdk'\\n  entrypoint: gcloud\\n  args: ['run', 'deploy', '${APP_NAME}','--port','7080','--image', '${IMAGE_NAME}', '--region', '${REGION}']\\nimages:\\n- ${IMAGE_NAME}\\nEND\\n\\ngcloud builds submit > silent\\n\"' returned non-zero exit status 1.",
     "output_type": "error",
     "traceback": [
      "\u001b[0;31m---------------------------------------------------------------------------\u001b[0m",
      "\u001b[0;31mCalledProcessError\u001b[0m                        Traceback (most recent call last)",
      "\u001b[0;32m/tmp/ipykernel_20782/2184263205.py\u001b[0m in \u001b[0;36m<module>\u001b[0;34m\u001b[0m\n\u001b[0;32m----> 1\u001b[0;31m \u001b[0mget_ipython\u001b[0m\u001b[0;34m(\u001b[0m\u001b[0;34m)\u001b[0m\u001b[0;34m.\u001b[0m\u001b[0mrun_cell_magic\u001b[0m\u001b[0;34m(\u001b[0m\u001b[0;34m'bash'\u001b[0m\u001b[0;34m,\u001b[0m \u001b[0;34m''\u001b[0m\u001b[0;34m,\u001b[0m \u001b[0;34m\"# create a cloud build deployment using docker\\n\\ncd serve/examples/image_classifier/mnist\\n\\ncat > cloudbuild.yaml <<END\\nsteps:\\n# Build the container image\\n- name: 'gcr.io/cloud-builders/docker'\\n  args: ['build', '-t', '${IMAGE_NAME}', '.']\\n# Push the container image to Container Registry\\n- name: 'gcr.io/cloud-builders/docker'\\n  args: ['push', '${IMAGE_NAME}']\\n# Deploy container image to Cloud Run\\n- name: 'gcr.io/google.com/cloudsdktool/cloud-sdk'\\n  entrypoint: gcloud\\n  args: ['run', 'deploy', '${APP_NAME}','--port','7080','--image', '${IMAGE_NAME}', '--region', '${REGION}']\\nimages:\\n- ${IMAGE_NAME}\\nEND\\n\\ngcloud builds submit > silent\\n\"\u001b[0m\u001b[0;34m)\u001b[0m\u001b[0;34m\u001b[0m\u001b[0;34m\u001b[0m\u001b[0m\n\u001b[0m",
      "\u001b[0;32m/opt/conda/lib/python3.7/site-packages/IPython/core/interactiveshell.py\u001b[0m in \u001b[0;36mrun_cell_magic\u001b[0;34m(self, magic_name, line, cell)\u001b[0m\n\u001b[1;32m   2401\u001b[0m             \u001b[0;32mwith\u001b[0m \u001b[0mself\u001b[0m\u001b[0;34m.\u001b[0m\u001b[0mbuiltin_trap\u001b[0m\u001b[0;34m:\u001b[0m\u001b[0;34m\u001b[0m\u001b[0;34m\u001b[0m\u001b[0m\n\u001b[1;32m   2402\u001b[0m                 \u001b[0margs\u001b[0m \u001b[0;34m=\u001b[0m \u001b[0;34m(\u001b[0m\u001b[0mmagic_arg_s\u001b[0m\u001b[0;34m,\u001b[0m \u001b[0mcell\u001b[0m\u001b[0;34m)\u001b[0m\u001b[0;34m\u001b[0m\u001b[0;34m\u001b[0m\u001b[0m\n\u001b[0;32m-> 2403\u001b[0;31m                 \u001b[0mresult\u001b[0m \u001b[0;34m=\u001b[0m \u001b[0mfn\u001b[0m\u001b[0;34m(\u001b[0m\u001b[0;34m*\u001b[0m\u001b[0margs\u001b[0m\u001b[0;34m,\u001b[0m \u001b[0;34m**\u001b[0m\u001b[0mkwargs\u001b[0m\u001b[0;34m)\u001b[0m\u001b[0;34m\u001b[0m\u001b[0;34m\u001b[0m\u001b[0m\n\u001b[0m\u001b[1;32m   2404\u001b[0m             \u001b[0;32mreturn\u001b[0m \u001b[0mresult\u001b[0m\u001b[0;34m\u001b[0m\u001b[0;34m\u001b[0m\u001b[0m\n\u001b[1;32m   2405\u001b[0m \u001b[0;34m\u001b[0m\u001b[0m\n",
      "\u001b[0;32m/opt/conda/lib/python3.7/site-packages/IPython/core/magics/script.py\u001b[0m in \u001b[0;36mnamed_script_magic\u001b[0;34m(line, cell)\u001b[0m\n\u001b[1;32m    140\u001b[0m             \u001b[0;32melse\u001b[0m\u001b[0;34m:\u001b[0m\u001b[0;34m\u001b[0m\u001b[0;34m\u001b[0m\u001b[0m\n\u001b[1;32m    141\u001b[0m                 \u001b[0mline\u001b[0m \u001b[0;34m=\u001b[0m \u001b[0mscript\u001b[0m\u001b[0;34m\u001b[0m\u001b[0;34m\u001b[0m\u001b[0m\n\u001b[0;32m--> 142\u001b[0;31m             \u001b[0;32mreturn\u001b[0m \u001b[0mself\u001b[0m\u001b[0;34m.\u001b[0m\u001b[0mshebang\u001b[0m\u001b[0;34m(\u001b[0m\u001b[0mline\u001b[0m\u001b[0;34m,\u001b[0m \u001b[0mcell\u001b[0m\u001b[0;34m)\u001b[0m\u001b[0;34m\u001b[0m\u001b[0;34m\u001b[0m\u001b[0m\n\u001b[0m\u001b[1;32m    143\u001b[0m \u001b[0;34m\u001b[0m\u001b[0m\n\u001b[1;32m    144\u001b[0m         \u001b[0;31m# write a basic docstring:\u001b[0m\u001b[0;34m\u001b[0m\u001b[0;34m\u001b[0m\u001b[0;34m\u001b[0m\u001b[0m\n",
      "\u001b[0;32m/opt/conda/lib/python3.7/site-packages/decorator.py\u001b[0m in \u001b[0;36mfun\u001b[0;34m(*args, **kw)\u001b[0m\n\u001b[1;32m    230\u001b[0m             \u001b[0;32mif\u001b[0m \u001b[0;32mnot\u001b[0m \u001b[0mkwsyntax\u001b[0m\u001b[0;34m:\u001b[0m\u001b[0;34m\u001b[0m\u001b[0;34m\u001b[0m\u001b[0m\n\u001b[1;32m    231\u001b[0m                 \u001b[0margs\u001b[0m\u001b[0;34m,\u001b[0m \u001b[0mkw\u001b[0m \u001b[0;34m=\u001b[0m \u001b[0mfix\u001b[0m\u001b[0;34m(\u001b[0m\u001b[0margs\u001b[0m\u001b[0;34m,\u001b[0m \u001b[0mkw\u001b[0m\u001b[0;34m,\u001b[0m \u001b[0msig\u001b[0m\u001b[0;34m)\u001b[0m\u001b[0;34m\u001b[0m\u001b[0;34m\u001b[0m\u001b[0m\n\u001b[0;32m--> 232\u001b[0;31m             \u001b[0;32mreturn\u001b[0m \u001b[0mcaller\u001b[0m\u001b[0;34m(\u001b[0m\u001b[0mfunc\u001b[0m\u001b[0;34m,\u001b[0m \u001b[0;34m*\u001b[0m\u001b[0;34m(\u001b[0m\u001b[0mextras\u001b[0m \u001b[0;34m+\u001b[0m \u001b[0margs\u001b[0m\u001b[0;34m)\u001b[0m\u001b[0;34m,\u001b[0m \u001b[0;34m**\u001b[0m\u001b[0mkw\u001b[0m\u001b[0;34m)\u001b[0m\u001b[0;34m\u001b[0m\u001b[0;34m\u001b[0m\u001b[0m\n\u001b[0m\u001b[1;32m    233\u001b[0m     \u001b[0mfun\u001b[0m\u001b[0;34m.\u001b[0m\u001b[0m__name__\u001b[0m \u001b[0;34m=\u001b[0m \u001b[0mfunc\u001b[0m\u001b[0;34m.\u001b[0m\u001b[0m__name__\u001b[0m\u001b[0;34m\u001b[0m\u001b[0;34m\u001b[0m\u001b[0m\n\u001b[1;32m    234\u001b[0m     \u001b[0mfun\u001b[0m\u001b[0;34m.\u001b[0m\u001b[0m__doc__\u001b[0m \u001b[0;34m=\u001b[0m \u001b[0mfunc\u001b[0m\u001b[0;34m.\u001b[0m\u001b[0m__doc__\u001b[0m\u001b[0;34m\u001b[0m\u001b[0;34m\u001b[0m\u001b[0m\n",
      "\u001b[0;32m/opt/conda/lib/python3.7/site-packages/IPython/core/magic.py\u001b[0m in \u001b[0;36m<lambda>\u001b[0;34m(f, *a, **k)\u001b[0m\n\u001b[1;32m    185\u001b[0m     \u001b[0;31m# but it's overkill for just that one bit of state.\u001b[0m\u001b[0;34m\u001b[0m\u001b[0;34m\u001b[0m\u001b[0;34m\u001b[0m\u001b[0m\n\u001b[1;32m    186\u001b[0m     \u001b[0;32mdef\u001b[0m \u001b[0mmagic_deco\u001b[0m\u001b[0;34m(\u001b[0m\u001b[0marg\u001b[0m\u001b[0;34m)\u001b[0m\u001b[0;34m:\u001b[0m\u001b[0;34m\u001b[0m\u001b[0;34m\u001b[0m\u001b[0m\n\u001b[0;32m--> 187\u001b[0;31m         \u001b[0mcall\u001b[0m \u001b[0;34m=\u001b[0m \u001b[0;32mlambda\u001b[0m \u001b[0mf\u001b[0m\u001b[0;34m,\u001b[0m \u001b[0;34m*\u001b[0m\u001b[0ma\u001b[0m\u001b[0;34m,\u001b[0m \u001b[0;34m**\u001b[0m\u001b[0mk\u001b[0m\u001b[0;34m:\u001b[0m \u001b[0mf\u001b[0m\u001b[0;34m(\u001b[0m\u001b[0;34m*\u001b[0m\u001b[0ma\u001b[0m\u001b[0;34m,\u001b[0m \u001b[0;34m**\u001b[0m\u001b[0mk\u001b[0m\u001b[0;34m)\u001b[0m\u001b[0;34m\u001b[0m\u001b[0;34m\u001b[0m\u001b[0m\n\u001b[0m\u001b[1;32m    188\u001b[0m \u001b[0;34m\u001b[0m\u001b[0m\n\u001b[1;32m    189\u001b[0m         \u001b[0;32mif\u001b[0m \u001b[0mcallable\u001b[0m\u001b[0;34m(\u001b[0m\u001b[0marg\u001b[0m\u001b[0;34m)\u001b[0m\u001b[0;34m:\u001b[0m\u001b[0;34m\u001b[0m\u001b[0;34m\u001b[0m\u001b[0m\n",
      "\u001b[0;32m/opt/conda/lib/python3.7/site-packages/IPython/core/magics/script.py\u001b[0m in \u001b[0;36mshebang\u001b[0;34m(self, line, cell)\u001b[0m\n\u001b[1;32m    243\u001b[0m             \u001b[0msys\u001b[0m\u001b[0;34m.\u001b[0m\u001b[0mstderr\u001b[0m\u001b[0;34m.\u001b[0m\u001b[0mflush\u001b[0m\u001b[0;34m(\u001b[0m\u001b[0;34m)\u001b[0m\u001b[0;34m\u001b[0m\u001b[0;34m\u001b[0m\u001b[0m\n\u001b[1;32m    244\u001b[0m         \u001b[0;32mif\u001b[0m \u001b[0margs\u001b[0m\u001b[0;34m.\u001b[0m\u001b[0mraise_error\u001b[0m \u001b[0;32mand\u001b[0m \u001b[0mp\u001b[0m\u001b[0;34m.\u001b[0m\u001b[0mreturncode\u001b[0m\u001b[0;34m!=\u001b[0m\u001b[0;36m0\u001b[0m\u001b[0;34m:\u001b[0m\u001b[0;34m\u001b[0m\u001b[0;34m\u001b[0m\u001b[0m\n\u001b[0;32m--> 245\u001b[0;31m             \u001b[0;32mraise\u001b[0m \u001b[0mCalledProcessError\u001b[0m\u001b[0;34m(\u001b[0m\u001b[0mp\u001b[0m\u001b[0;34m.\u001b[0m\u001b[0mreturncode\u001b[0m\u001b[0;34m,\u001b[0m \u001b[0mcell\u001b[0m\u001b[0;34m,\u001b[0m \u001b[0moutput\u001b[0m\u001b[0;34m=\u001b[0m\u001b[0mout\u001b[0m\u001b[0;34m,\u001b[0m \u001b[0mstderr\u001b[0m\u001b[0;34m=\u001b[0m\u001b[0merr\u001b[0m\u001b[0;34m)\u001b[0m\u001b[0;34m\u001b[0m\u001b[0;34m\u001b[0m\u001b[0m\n\u001b[0m\u001b[1;32m    246\u001b[0m \u001b[0;34m\u001b[0m\u001b[0m\n\u001b[1;32m    247\u001b[0m     \u001b[0;32mdef\u001b[0m \u001b[0m_run_script\u001b[0m\u001b[0;34m(\u001b[0m\u001b[0mself\u001b[0m\u001b[0;34m,\u001b[0m \u001b[0mp\u001b[0m\u001b[0;34m,\u001b[0m \u001b[0mcell\u001b[0m\u001b[0;34m,\u001b[0m \u001b[0mto_close\u001b[0m\u001b[0;34m)\u001b[0m\u001b[0;34m:\u001b[0m\u001b[0;34m\u001b[0m\u001b[0;34m\u001b[0m\u001b[0m\n",
      "\u001b[0;31mCalledProcessError\u001b[0m: Command 'b\"# create a cloud build deployment using docker\\n\\ncd serve/examples/image_classifier/mnist\\n\\ncat > cloudbuild.yaml <<END\\nsteps:\\n# Build the container image\\n- name: 'gcr.io/cloud-builders/docker'\\n  args: ['build', '-t', '${IMAGE_NAME}', '.']\\n# Push the container image to Container Registry\\n- name: 'gcr.io/cloud-builders/docker'\\n  args: ['push', '${IMAGE_NAME}']\\n# Deploy container image to Cloud Run\\n- name: 'gcr.io/google.com/cloudsdktool/cloud-sdk'\\n  entrypoint: gcloud\\n  args: ['run', 'deploy', '${APP_NAME}','--port','7080','--image', '${IMAGE_NAME}', '--region', '${REGION}']\\nimages:\\n- ${IMAGE_NAME}\\nEND\\n\\ngcloud builds submit > silent\\n\"' returned non-zero exit status 1."
     ]
    }
   ],
   "source": [
    "%%bash \n",
    "# create a cloud build deployment using docker\n",
    "\n",
    "cd serve/examples/image_classifier/mnist\n",
    "\n",
    "cat > cloudbuild.yaml <<END\n",
    "steps:\n",
    "# Build the container image\n",
    "- name: 'gcr.io/cloud-builders/docker'\n",
    "  args: ['build', '-t', '${IMAGE_NAME}', '.']\n",
    "# Push the container image to Container Registry\n",
    "- name: 'gcr.io/cloud-builders/docker'\n",
    "  args: ['push', '${IMAGE_NAME}']\n",
    "# Deploy container image to Cloud Run\n",
    "- name: 'gcr.io/google.com/cloudsdktool/cloud-sdk'\n",
    "  entrypoint: gcloud\n",
    "  args: ['run', 'deploy', '${APP_NAME}','--port','7080','--image', '${IMAGE_NAME}', '--region', '${REGION}']\n",
    "images:\n",
    "- ${IMAGE_NAME}\n",
    "END\n",
    "\n",
    "gcloud builds submit > silent"
   ]
  },
  {
   "cell_type": "code",
   "execution_count": null,
   "metadata": {},
   "outputs": [],
   "source": [
    "%%bash\n",
    "ENDPOINT_ID=\"1648581346408267776\"\n",
    "PROJECT_ID=\"felipe-sandbox\"\n",
    "\n",
    "cat > INPUT-JSON <<END\n",
    "{\n",
    "  \"model\": {\n",
    "    \"displayName\": ${APP_NAME},\n",
    "    \"predictSchemata\": {},\n",
    "    \"containerSpec\": {\n",
    "      \"imageUri\": \"gcr.io/${PROJECT_ID}/${APP_NAME}/serve-mnist\",\n",
    "      \"ports\": [\n",
    "        {\n",
    "          \"containerPort\": 7080\n",
    "        }\n",
    "      ],\n",
    "      \"predictRoute\": \"/predictions/mnist\",\n",
    "      \"healthRoute\": \"/ping\"\n",
    "    },\n",
    "    \"artifactUri\": \"PATH_TO_MODEL_ARTIFACT_DIRECTORY\",\n",
    "  }\n",
    "}\n",
    "\n",
    "END\n",
    "\n",
    "curl -X POST \\\n",
    "-H \"Authorization: Bearer \"$(gcloud auth application-default print-access-token) \\\n",
    "-H \"Content-Type: application/json; charset=utf-8\" \\\n",
    "-d @INPUT-JSON \\\n",
    "\"https://${REGION}-aiplatform.googleapis.com/v1/projects/${PROJECT_ID}/locations/${REGION}/models:upload\""
   ]
  },
  {
   "cell_type": "code",
   "execution_count": 35,
   "metadata": {
    "colab": {
     "base_uri": "https://localhost:8080/"
    },
    "id": "HST7eVCgf3Li",
    "outputId": "38ec1199-ad88-416e-b5c2-3b1471fe6556"
   },
   "outputs": [
    {
     "name": "stdout",
     "output_type": "stream",
     "text": [
      "{\n",
      "  \"predictions\": [\n",
      "    0,\n",
      "    1\n",
      "  ],\n",
      "  \"deployedModelId\": \"4502552892300853248\",\n",
      "  \"model\": \"projects/581970904807/locations/us-central1/models/2825648126361075712\",\n",
      "  \"modelDisplayName\": \"titanic_custom_training\"\n",
      "}\n"
     ]
    },
    {
     "name": "stderr",
     "output_type": "stream",
     "text": [
      "  % Total    % Received % Xferd  Average Speed   Time    Time     Time  Current\n",
      "                                 Dload  Upload   Total   Spent    Left  Speed\n",
      "100   369    0   218  100   151    158    109  0:00:01  0:00:01 --:--:--   268\n"
     ]
    }
   ],
   "source": [
    "%%bash\n",
    "ENDPOINT_ID=\"1648581346408267776\"\n",
    "PROJECT_ID=\"felipe-sandbox\"\n",
    "INPUT_DATA_FILE=\"INPUT-JSON\"\n",
    "\n",
    "cat > INPUT-JSON <<END\n",
    "{\n",
    "  \"instances\": [\n",
    "    {\n",
    "      \"data\": {\n",
    "        \"b64\": \"iVBORw0KGgoAAAANSUhEUgAAABwAAAAcCAAAAABXZoBIAAAAv0lEQVR4nGNgGKSA03faPyDwxibHu/7vvwfnzz/5tsgRU3LW33uukgwMCi1PdmBKOr7dAmEsuiiIKSssDpX8q4fbYYv/4ZZk3YTNWCg48HcGTrnOf39dcUgpzPv97+/b56LY5PKBIfTi+bt//7ptMSV7Py6NYWCQirn17zymJK8R1PRVd4RxuoqhG6erCEmevoBbbsqvUkxBXWMQabzk+wksOhZ9vHDh4oWPf1d6YZFUuff377+/9zp5cNtIHQAAtP5OgKw1m4AAAAAASUVORK5CYII=\"\n",
    "      }\n",
    "    }\n",
    "  ]\n",
    "}\n",
    "\n",
    "END\n",
    "\n",
    "curl \\\n",
    "-X POST \\\n",
    "-H \"Authorization: Bearer $(gcloud auth print-access-token)\" \\\n",
    "-H \"Content-Type: application/json\" \\\n",
    "https://us-central1-aiplatform.googleapis.com/v1/projects/${PROJECT_ID}/locations/us-central1/endpoints/${ENDPOINT_ID}:predict \\\n",
    "-d \"@${INPUT_DATA_FILE}\""
   ]
  },
  {
   "cell_type": "code",
   "execution_count": 23,
   "metadata": {
    "colab": {
     "base_uri": "https://localhost:8080/"
    },
    "id": "G-NOej_2ULTv",
    "outputId": "399ac0f1-911d-4e5f-c384-3ed383c742b5"
   },
   "outputs": [
    {
     "name": "stdout",
     "output_type": "stream",
     "text": [
      "Activated service account credentials for: [pytorch-test@felipe-sandbox.iam.gserviceaccount.com]\n"
     ]
    }
   ],
   "source": [
    "!gcloud auth activate-service-account --key-file=/content/felipe-sandbox-ba2c6045e3e1.json"
   ]
  },
  {
   "cell_type": "code",
   "execution_count": null,
   "metadata": {},
   "outputs": [],
   "source": []
  },
  {
   "cell_type": "code",
   "execution_count": null,
   "metadata": {
    "id": "kXabIpUaUYh5"
   },
   "outputs": [],
   "source": [
    "%%bash\n",
    "docker build \\\n",
    "  --tag=us-central1-docker.pkg.dev/PROJECT_ID/getting-started-pytorch/serve-mnist \\\n",
    "  ."
   ]
  }
 ],
 "metadata": {
  "colab": {
   "name": "PyTorch Deployment.ipynb",
   "provenance": []
  },
  "environment": {
   "name": "common-cpu.m80",
   "type": "gcloud",
   "uri": "gcr.io/deeplearning-platform-release/base-cpu:m80"
  },
  "kernelspec": {
   "display_name": "Python 3",
   "language": "python",
   "name": "python3"
  },
  "language_info": {
   "codemirror_mode": {
    "name": "ipython",
    "version": 3
   },
   "file_extension": ".py",
   "mimetype": "text/x-python",
   "name": "python",
   "nbconvert_exporter": "python",
   "pygments_lexer": "ipython3",
   "version": "3.7.10"
  }
 },
 "nbformat": 4,
 "nbformat_minor": 4
}
