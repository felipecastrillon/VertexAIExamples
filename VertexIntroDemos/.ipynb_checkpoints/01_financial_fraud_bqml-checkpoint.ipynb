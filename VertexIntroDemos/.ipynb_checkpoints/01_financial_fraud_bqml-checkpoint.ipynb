{
 "cells": [
  {
   "cell_type": "code",
   "execution_count": 1,
   "id": "d3714707-a13b-43c6-8aca-b09e711fbfa8",
   "metadata": {},
   "outputs": [],
   "source": [
    "PROJECT_ID = \"felipe-sandbox-354619\"\n",
    "BUCKET_NAME=\"gs://\" + PROJECT_ID + \"-bucket\""
   ]
  },
  {
   "cell_type": "markdown",
   "id": "f728769a-8203-419f-b119-e804e07f863f",
   "metadata": {},
   "source": [
    "#@bigquery\n",
    "\n",
    "SELECT * \n",
    "FROM `felipe-sandbox-354619.financial_fraud.transactions`"
   ]
  },
  {
   "cell_type": "markdown",
   "id": "b72397c8-f151-48f4-95bb-c992035ec968",
   "metadata": {},
   "source": [
    "#@bigquery\n",
    "\n",
    "CREATE OR REPLACE VIEW `financial_fraud.transactions_clean` AS\n",
    "SELECT type, amount, oldbalanceOrg, newbalanceOrig, oldbalanceDest, newbalanceDest, isFraud \n",
    "FROM `felipe-sandbox-354619.financial_fraud.transactions`"
   ]
  },
  {
   "cell_type": "markdown",
   "id": "8bd10e35-52e0-41ab-90a4-56016fb97959",
   "metadata": {},
   "source": [
    "#@bigquery\n",
    "\n",
    "CREATE OR REPLACE MODEL\n",
    "`financial_fraud.bqml_logisticreg_model`\n",
    "OPTIONS(MODEL_TYPE='LOGISTIC_REG', INPUT_LABEL_COLS=['isFraud'])\n",
    "AS\n",
    "SELECT * FROM `financial_fraud.transactions_clean`"
   ]
  },
  {
   "cell_type": "markdown",
   "id": "584dfa11-c321-444e-b515-140c77a3b58f",
   "metadata": {},
   "source": [
    "#@bigquery\n",
    "SELECT\n",
    "  *\n",
    "FROM\n",
    "  ML.EVALUATE(MODEL `financial_fraud.bqml_logisticreg_model`)"
   ]
  },
  {
   "cell_type": "markdown",
   "id": "85652d1f-4abe-485d-b03a-0ef0ff399bca",
   "metadata": {},
   "source": [
    "#@bigquery\n",
    "SELECT\n",
    "  *\n",
    "FROM\n",
    "  ML.PREDICT(MODEL `financial_fraud.bqml_logisticreg_model`,\n",
    "            (SELECT * FROM `financial_fraud.transactions_clean` LIMIT 5))"
   ]
  },
  {
   "cell_type": "code",
   "execution_count": null,
   "id": "0cc53979-c9ad-402d-bc41-bb74675be400",
   "metadata": {},
   "outputs": [],
   "source": []
  }
 ],
 "metadata": {
  "kernelspec": {
   "display_name": "Python (Local)",
   "language": "python",
   "name": "local-base"
  },
  "language_info": {
   "codemirror_mode": {
    "name": "ipython",
    "version": 3
   },
   "file_extension": ".py",
   "mimetype": "text/x-python",
   "name": "python",
   "nbconvert_exporter": "python",
   "pygments_lexer": "ipython3",
   "version": "3.7.12"
  }
 },
 "nbformat": 4,
 "nbformat_minor": 5
}
