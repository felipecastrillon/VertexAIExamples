{
 "cells": [
  {
   "cell_type": "code",
   "execution_count": null,
   "id": "5412f2d4-4ae6-49d2-83c6-a16ad28f3d53",
   "metadata": {
    "tags": []
   },
   "outputs": [],
   "source": [
    "#install packages\n",
    "pip install --user witwidget\n"
   ]
  },
  {
   "cell_type": "code",
   "execution_count": null,
   "id": "dbe0d513-57ab-40ca-b8f5-d96f18511b16",
   "metadata": {},
   "outputs": [],
   "source": [
    "import pandas as pd\n",
    "import numpy as np\n",
    "from witwidget.notebook.visualization import WitConfigBuilder\n",
    "from witwidget.notebook.visualization import WitWidget\n",
    "from sklearn.linear_model import LogisticRegression\n",
    "import google.cloud.aiplatform as aiplatform\n"
   ]
  },
  {
   "cell_type": "code",
   "execution_count": null,
   "id": "d564b780-a09a-414f-b3bf-14d4f48be7eb",
   "metadata": {},
   "outputs": [],
   "source": [
    "%%bigquery \n",
    "SELECT\n",
    "  age,\n",
    "  workclass,\n",
    "  marital_status,\n",
    "  education_num,\n",
    "  occupation,\n",
    "  hours_per_week,\n",
    "  income_bracket\n",
    "FROM\n",
    "  `bigquery-public-data.ml_datasets.census_adult_income`\n",
    "LIMIT\n",
    "  100;"
   ]
  },
  {
   "cell_type": "code",
   "execution_count": null,
   "id": "94ce7593-dc50-495b-bead-f77addedebe9",
   "metadata": {
    "tags": []
   },
   "outputs": [],
   "source": [
    "%%bigquery\n",
    "CREATE OR REPLACE VIEW\n",
    "  `census.input_view` AS\n",
    "SELECT\n",
    "  age,\n",
    "  workclass,\n",
    "  marital_status,\n",
    "  education_num,\n",
    "  occupation,\n",
    "  hours_per_week,\n",
    "  income_bracket,\n",
    "  CASE\n",
    "    WHEN MOD(functional_weight, 10) < 8 THEN 'training'\n",
    "    WHEN MOD(functional_weight, 10) = 8 THEN 'evaluation'\n",
    "    WHEN MOD(functional_weight, 10) = 9 THEN 'prediction'\n",
    "  END AS dataframe\n",
    "FROM\n",
    "  `bigquery-public-data.ml_datasets.census_adult_income`"
   ]
  },
  {
   "cell_type": "code",
   "execution_count": null,
   "id": "c3664179-8413-4cca-923b-3aa64987e40d",
   "metadata": {},
   "outputs": [],
   "source": [
    "%%bigquery\n",
    "CREATE OR REPLACE MODEL\n",
    "  `census.census_model`\n",
    "OPTIONS\n",
    "  ( model_type='LOGISTIC_REG',\n",
    "    auto_class_weights=TRUE,\n",
    "    input_label_cols=['income_bracket']\n",
    "  ) AS\n",
    "SELECT\n",
    "  * EXCEPT(dataframe)\n",
    "FROM\n",
    "  `census.input_view`\n",
    "WHERE\n",
    "  dataframe = 'training'\n",
    "    "
   ]
  },
  {
   "cell_type": "code",
   "execution_count": null,
   "id": "20485120-ef4c-42dc-a418-7362bb7f2c78",
   "metadata": {},
   "outputs": [],
   "source": [
    "%%bigquery input_df\n",
    "SELECT * EXCEPT (dataframe) FROM `census.input_view` \n",
    "WHERE dataframe = 'training'"
   ]
  },
  {
   "cell_type": "code",
   "execution_count": null,
   "id": "b68631c4-e321-49df-b96a-cdddda1f9378",
   "metadata": {},
   "outputs": [],
   "source": [
    "input_df.head()"
   ]
  },
  {
   "cell_type": "code",
   "execution_count": null,
   "id": "912cef07-0552-4acb-a115-cfaa33daa12a",
   "metadata": {},
   "outputs": [],
   "source": [
    "transform_df = pd.get_dummies(input_df,\n",
    "                     columns = ['workclass', 'marital_status', 'occupation', 'education_num'])\n",
    "transform_df"
   ]
  },
  {
   "cell_type": "code",
   "execution_count": null,
   "id": "08162cdd-b599-4866-a53d-f79022d5724e",
   "metadata": {},
   "outputs": [],
   "source": [
    "from sklearn.linear_model import LogisticRegression"
   ]
  },
  {
   "cell_type": "code",
   "execution_count": null,
   "id": "3a49e58e-3e79-4bbc-9a42-3e98c95e4236",
   "metadata": {},
   "outputs": [],
   "source": [
    "X = transform_df.drop('income_bracket', axis=1)\n",
    "y = transform_df[\"income_bracket\"]"
   ]
  },
  {
   "cell_type": "code",
   "execution_count": null,
   "id": "d79eb53d-bfe7-45df-bfac-2e87f9966810",
   "metadata": {},
   "outputs": [],
   "source": [
    "X = X[['hours_per_week', 'age']]"
   ]
  },
  {
   "cell_type": "code",
   "execution_count": null,
   "id": "e9399707-76b9-4a68-8d62-9018b0c54963",
   "metadata": {},
   "outputs": [],
   "source": [
    "X.head()"
   ]
  },
  {
   "cell_type": "code",
   "execution_count": null,
   "id": "eb5aa5b1-5e0a-49e8-bd42-6cae640876cd",
   "metadata": {},
   "outputs": [],
   "source": [
    "y.head()"
   ]
  },
  {
   "cell_type": "code",
   "execution_count": null,
   "id": "c345a5e6-d1a9-441f-88ab-d57365fe1560",
   "metadata": {},
   "outputs": [],
   "source": [
    "clf = LogisticRegression(random_state=0).fit(X, y)"
   ]
  },
  {
   "cell_type": "code",
   "execution_count": null,
   "id": "0592abba-992c-4385-969a-22acc0678106",
   "metadata": {},
   "outputs": [],
   "source": [
    "clf.get_params()"
   ]
  },
  {
   "cell_type": "code",
   "execution_count": null,
   "id": "9dbb2e1a-6ebf-42c9-989a-74e10e690adf",
   "metadata": {},
   "outputs": [],
   "source": [
    "clf.feature_names = list(X.columns.values)"
   ]
  },
  {
   "cell_type": "code",
   "execution_count": null,
   "id": "2412d749-72e8-4d3d-9292-3e3089c71bc0",
   "metadata": {},
   "outputs": [],
   "source": [
    "clf.feature_names"
   ]
  },
  {
   "cell_type": "code",
   "execution_count": null,
   "id": "d830fbbd-fda3-473b-a2d1-53722816c70a",
   "metadata": {},
   "outputs": [],
   "source": [
    "clf.feature_names_in_"
   ]
  },
  {
   "cell_type": "code",
   "execution_count": null,
   "id": "1036e97c-4317-4928-b1ae-42f782dea9fc",
   "metadata": {},
   "outputs": [],
   "source": [
    "clf.predict(X[:1])"
   ]
  },
  {
   "cell_type": "code",
   "execution_count": null,
   "id": "ad47bd93-3644-463c-b9a2-cd7cffbfd98f",
   "metadata": {},
   "outputs": [],
   "source": [
    "import joblib\n",
    "joblib.dump(clf, 'model.joblib')"
   ]
  },
  {
   "cell_type": "code",
   "execution_count": null,
   "id": "538796fe-b9ee-43c6-a6ae-7ff723a8cb9f",
   "metadata": {},
   "outputs": [],
   "source": [
    "new_clf = joblib.load('model.joblib')\n",
    "clf.predict(X[:1])"
   ]
  },
  {
   "cell_type": "code",
   "execution_count": null,
   "id": "33b1a544-364d-4083-94e0-f860f02da499",
   "metadata": {},
   "outputs": [],
   "source": [
    "!gsutil cp model.joblib gs://felipe-sandbox/logistic_regression/"
   ]
  },
  {
   "cell_type": "code",
   "execution_count": null,
   "id": "040ca412-6d8c-4824-b9fa-86d023c3626a",
   "metadata": {},
   "outputs": [],
   "source": [
    "%%writefile explanation-metadata.json\n",
    "\n",
    "{\n",
    "  \"inputs\": {\n",
    "    \"features\": {\"index_feature_mapping\": [\"hours_per_week\",\"age\"], \"encoding\": \"BAG_OF_FEATURES\"}\n",
    "  },\n",
    "  \"outputs\": {\n",
    "    \"income_bracket\": {\n",
    "    }\n",
    "  }\n",
    "}"
   ]
  },
  {
   "cell_type": "code",
   "execution_count": null,
   "id": "0234d697-8d53-4e92-9901-3fecfef76bf0",
   "metadata": {},
   "outputs": [],
   "source": [
    "!gsutil ls gs://felipe-sandbox/logistic_regression"
   ]
  },
  {
   "cell_type": "code",
   "execution_count": null,
   "id": "c709b402-a698-4607-948e-c189baa6854a",
   "metadata": {
    "tags": []
   },
   "outputs": [],
   "source": [
    "%%bash\n",
    "gcloud ai models upload \\\n",
    "  --region=us-central1 \\\n",
    "  --display-name=logistic_regression_xai_v3 \\\n",
    "  --container-image-uri=us-docker.pkg.dev/vertex-ai/prediction/sklearn-cpu.1-0:latest \\\n",
    "  --artifact-uri=gs://felipe-sandbox/logistic_regression \\\n",
    "  --explanation-method=sampled-shapley \\\n",
    "  --explanation-path-count=10 \\\n",
    "  --explanation-metadata-file=explanation-metadata.json"
   ]
  },
  {
   "cell_type": "code",
   "execution_count": null,
   "id": "a2b0a552-40f0-42de-9e9d-fcee4455625a",
   "metadata": {},
   "outputs": [],
   "source": [
    "import google.cloud.aiplatform as aip\n",
    "aip.init(project=\"felipe-sandbox\", staging_bucket=\"gs://felipe-sandbox\")\n"
   ]
  },
  {
   "cell_type": "code",
   "execution_count": null,
   "id": "4f8a6841-c069-4ced-b341-7c0c555fd5f1",
   "metadata": {},
   "outputs": [],
   "source": [
    "REGION=\"us-central1\""
   ]
  },
  {
   "cell_type": "code",
   "execution_count": null,
   "id": "0bdeda7b-7e39-4b51-afc0-dcf35ff75094",
   "metadata": {},
   "outputs": [],
   "source": [
    "\n",
    "XAI = \"shapley\"  # [ shapley, ig, xrai ]\n",
    "\n",
    "if XAI == \"shapley\":\n",
    "    PARAMETERS = {\"sampled_shapley_attribution\": {\"path_count\": 10}}\n",
    "elif XAI == \"ig\":\n",
    "    PARAMETERS = {\"integrated_gradients_attribution\": {\"step_count\": 50}}\n",
    "elif XAI == \"xrai\":\n",
    "    PARAMETERS = {\"xrai_attribution\": {\"step_count\": 50}}\n",
    "\n",
    "parameters = aip.explain.ExplanationParameters(PARAMETERS)\n",
    "\n",
    "COLUMNS = [\n",
    "    \"hours_per_week\",\n",
    "    \"age\"\n",
    "]\n",
    "metadata = aip.explain.ExplanationMetadata(\n",
    "    inputs={\n",
    "        \"features\": {\"index_feature_mapping\": COLUMNS, \"encoding\": \"BAG_OF_FEATURES\"}\n",
    "    },\n",
    "    outputs={\"income_bracket\": {}},\n",
    ")\n",
    "\n",
    "MODEL_DIR = \"felipe-sandbox\" + \"/model\"\n",
    "\n",
    "DEPLOY_VERSION = \"sklearn-cpu.0-23\"\n",
    "DEPLOY_IMAGE = \"{}-docker.pkg.dev/vertex-ai/prediction/{}:latest\".format(\n",
    "    REGION.split(\"-\")[0], DEPLOY_VERSION\n",
    ")"
   ]
  },
  {
   "cell_type": "code",
   "execution_count": null,
   "id": "3ee2b42e-1f17-4350-9b7f-3b78fdb4f6cb",
   "metadata": {},
   "outputs": [],
   "source": [
    "model = aip.Model.upload(\n",
    "    display_name=\"logistic_regression_v4\",\n",
    "    artifact_uri=\"gs://felipe-sandbox/logistic_regression\",\n",
    "    serving_container_image_uri=\"us-docker.pkg.dev/vertex-ai/prediction/sklearn-cpu.1-0:latest\",\n",
    "    explanation_parameters=parameters,\n",
    "    explanation_metadata=metadata,\n",
    "    sync=False,\n",
    ")\n",
    "\n",
    "model.wait()"
   ]
  },
  {
   "cell_type": "code",
   "execution_count": null,
   "id": "1ae6f4e4-6844-4d9d-9490-934ccc1ccd15",
   "metadata": {},
   "outputs": [],
   "source": [
    "model.list"
   ]
  },
  {
   "cell_type": "code",
   "execution_count": null,
   "id": "44e6a9b0-b716-491e-8f61-61f0cde9d3c9",
   "metadata": {},
   "outputs": [],
   "source": [
    "DEPLOYED_NAME = \"logistic-regression-endpoint-v4\" \n",
    "\n",
    "TRAFFIC_SPLIT = {\"0\": 100}\n",
    "\n",
    "endpoint = model.deploy(\n",
    "    deployed_model_display_name=DEPLOYED_NAME,\n",
    "    traffic_split=TRAFFIC_SPLIT,\n",
    "    machine_type=\"n1-standard-4\",\n",
    "    min_replica_count=1,\n",
    "    max_replica_count=1,\n",
    ")"
   ]
  },
  {
   "cell_type": "code",
   "execution_count": null,
   "id": "7ea3b5c8-e873-47c5-b8c5-209f8f33a6dd",
   "metadata": {},
   "outputs": [],
   "source": [
    "INSTANCE = [\n",
    "    10,10\n",
    "]\n",
    "instances = [INSTANCE]"
   ]
  },
  {
   "cell_type": "code",
   "execution_count": null,
   "id": "e11c9c68-b2e4-49c4-9111-33954dfa616c",
   "metadata": {},
   "outputs": [],
   "source": [
    "endpoint.predict(instances=instances)"
   ]
  },
  {
   "cell_type": "code",
   "execution_count": null,
   "id": "5e1542e2-7a6d-485d-8bc8-6073ac290e03",
   "metadata": {},
   "outputs": [],
   "source": [
    "prediction = endpoint.explain(instances=instances)\n",
    "print(prediction)"
   ]
  },
  {
   "cell_type": "code",
   "execution_count": null,
   "id": "a46a29e9-d052-4c93-a9c9-f5d2ba678c7d",
   "metadata": {},
   "outputs": [],
   "source": [
    "help(endpoint.explain)"
   ]
  },
  {
   "cell_type": "code",
   "execution_count": null,
   "id": "ae8359bf-797b-4140-aa88-c2afb5925738",
   "metadata": {},
   "outputs": [],
   "source": [
    "endpoint.explain(instances=[{\"age\":10,\"hours_per_week\":10}])"
   ]
  },
  {
   "cell_type": "code",
   "execution_count": null,
   "id": "09bf2ac6-ecb2-4995-b4d0-fb011fe32538",
   "metadata": {},
   "outputs": [],
   "source": [
    "gcloud ai endpoints create \\\n",
    "  --region=us-central1 \\\n",
    "  --display-name=logistic_regression_xai_v2"
   ]
  },
  {
   "cell_type": "code",
   "execution_count": null,
   "id": "1f023436-284e-476c-a59b-d615bfa3ba44",
   "metadata": {},
   "outputs": [],
   "source": [
    "num_wit_examples = 500\n",
    "test_examples = np.hstack((X[:num_wit_examples],y.values.reshape(-1,1)[:num_wit_examples].reshape(-1,1)))\n",
    "test_examples[0:3]"
   ]
  },
  {
   "cell_type": "code",
   "execution_count": null,
   "id": "87819139-2cd4-4643-8c25-991e04a15d18",
   "metadata": {},
   "outputs": [],
   "source": [
    "num_data = 500\n",
    "tool_height = 500\n",
    "config_builder = (WitConfigBuilder(test_examples.tolist(), X.columns.tolist() + ['income_bracket'])\n",
    "  .set_custom_predict_fn(clf.predict_proba)\n",
    "  .set_target_feature('income_bracket'))\n",
    "WitWidget(config_builder, height=tool_height)"
   ]
  },
  {
   "cell_type": "code",
   "execution_count": null,
   "id": "12f02843-ac1e-4a51-9597-67e95e83d667",
   "metadata": {},
   "outputs": [],
   "source": [
    "np.array(X.loc[0].values.flatten().tolist())"
   ]
  },
  {
   "cell_type": "code",
   "execution_count": null,
   "id": "b1aef04e-f761-4b81-9820-cf6298f22c48",
   "metadata": {},
   "outputs": [],
   "source": [
    "%%writefile input.json\n",
    "\n",
    "{\n",
    "  \"instances\" : [\n",
    "      [4.8, 3]\n",
    "  ]\n",
    "}"
   ]
  },
  {
   "cell_type": "code",
   "execution_count": null,
   "id": "507b4721-e0be-464a-b069-2bbbc4359688",
   "metadata": {},
   "outputs": [],
   "source": [
    "!gcloud ai endpoints explain 8246258043482800128 \\\n",
    "  --region=us-central1 \\\n",
    "  --json-request=input.json"
   ]
  },
  {
   "cell_type": "code",
   "execution_count": null,
   "id": "0e048c0d-6699-4c62-98a2-a84a91149ba2",
   "metadata": {},
   "outputs": [],
   "source": [
    "def explain_tabular_sample(\n",
    "    project: str, location: str, endpoint_id: str, instance_dict: dict\n",
    "):\n",
    "\n",
    "    aiplatform.init(project=project, location=location)\n",
    "\n",
    "    endpoint = aiplatform.Endpoint(endpoint_id)\n",
    "\n",
    "    response = endpoint.explain(instances=[instance_dict], parameters={})\n",
    "\n",
    "    for explanation in response.explanations:\n",
    "        print(\" explanation\")\n",
    "        # Feature attributions.\n",
    "        attributions = explanation.attributions\n",
    "        for attribution in attributions:\n",
    "            print(\"  attribution\")\n",
    "            print(\"   baseline_output_value:\", attribution.baseline_output_value)\n",
    "            print(\"   instance_output_value:\", attribution.instance_output_value)\n",
    "            print(\"   output_display_name:\", attribution.output_display_name)\n",
    "            print(\"   approximation_error:\", attribution.approximation_error)\n",
    "            print(\"   output_name:\", attribution.output_name)\n",
    "            output_index = attribution.output_index\n",
    "            for output_index in output_index:\n",
    "                print(\"   output_index:\", output_index)\n",
    "\n",
    "    for prediction in response.predictions:\n",
    "        print(prediction)"
   ]
  },
  {
   "cell_type": "code",
   "execution_count": null,
   "id": "51f12d12-fc7a-4266-bf5d-60c8069a9646",
   "metadata": {},
   "outputs": [],
   "source": [
    "instances = [[77, 10]]"
   ]
  },
  {
   "cell_type": "code",
   "execution_count": null,
   "id": "7082f6cc-a2d9-4d4f-bf94-998a25963745",
   "metadata": {},
   "outputs": [],
   "source": [
    "from google.cloud import aiplatform\n"
   ]
  },
  {
   "cell_type": "code",
   "execution_count": null,
   "id": "857da434-fe8e-4ba0-b63a-ce6ed8274c77",
   "metadata": {},
   "outputs": [],
   "source": [
    "explain_tabular_sample(\"felipe-sandbox\", \"us-central1\", \"7246881138671616000\", instances)"
   ]
  },
  {
   "cell_type": "code",
   "execution_count": null,
   "id": "a275f42b-2d67-47b5-93f6-763c3078e312",
   "metadata": {},
   "outputs": [],
   "source": [
    "import numpy as np\n",
    "from sklearn.datasets import load_iris\n",
    "from sklearn.linear_model import LogisticRegression\n",
    "import joblib\n",
    "\n",
    "class IrisClassifier:\n",
    "    def __init__(self):\n",
    "        self.X, self.y = load_iris(return_X_y=True)\n",
    "        self.clf = self.train_model()\n",
    "        self.iris_type = {\n",
    "            0: 'setosa',\n",
    "            1: 'versicolor',\n",
    "            2: 'virginica'\n",
    "        }\n",
    "\n",
    "    def train_model(self) -> LogisticRegression:\n",
    "        return LogisticRegression(solver='lbfgs',\n",
    "                                  max_iter=1000,\n",
    "                                  multi_class='multinomial').fit(self.X, self.y)\n",
    "\n",
    "    def predict(self, features: dict):\n",
    "        \n",
    "        X = [features['sepal_length'], features['sepal_width'], features['petal_length'], features['petal_width']]\n",
    "        print(X)\n",
    "        prediction = self.clf.predict_proba([X])\n",
    "        return {'class': self.iris_type[np.argmax(prediction)],\n",
    "                'probability': round(max(prediction[0]), 2)}\n",
    "\n",
    "model = IrisClassifier()\n",
    "joblib.dump(model, \"model.joblib\")"
   ]
  },
  {
   "cell_type": "code",
   "execution_count": null,
   "id": "fb2291fe-6efc-4a24-9030-68a7245b614d",
   "metadata": {},
   "outputs": [],
   "source": [
    "model.predict(features={\"sepal_length\": 4.8,\"sepal_width\": 3,\"petal_length\": 1.4,\"petal_width\": 0.3})"
   ]
  },
  {
   "cell_type": "code",
   "execution_count": null,
   "id": "8e4e7baf-a77a-4251-b520-5d80e9709c21",
   "metadata": {},
   "outputs": [],
   "source": []
  }
 ],
 "metadata": {
  "kernelspec": {
   "display_name": "Python (Local)",
   "language": "python",
   "name": "local-base"
  },
  "language_info": {
   "codemirror_mode": {
    "name": "ipython",
    "version": 3
   },
   "file_extension": ".py",
   "mimetype": "text/x-python",
   "name": "python",
   "nbconvert_exporter": "python",
   "pygments_lexer": "ipython3",
   "version": "3.7.12"
  }
 },
 "nbformat": 4,
 "nbformat_minor": 5
}
